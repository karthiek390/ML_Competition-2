{
 "cells": [
  {
   "cell_type": "code",
   "execution_count": 1,
   "metadata": {
    "_cell_guid": "b1076dfc-b9ad-4769-8c92-a6c4dae69d19",
    "_uuid": "8f2839f25d086af736a60e9eeb907d3b93b6e0e5",
    "execution": {
     "iopub.execute_input": "2022-11-28T00:26:07.373572Z",
     "iopub.status.busy": "2022-11-28T00:26:07.372527Z",
     "iopub.status.idle": "2022-11-28T00:26:07.412560Z",
     "shell.execute_reply": "2022-11-28T00:26:07.411764Z",
     "shell.execute_reply.started": "2022-11-28T00:26:07.373445Z"
    }
   },
   "outputs": [
    {
     "name": "stdout",
     "output_type": "stream",
     "text": [
      "/kaggle/input/nnpreds/neural3.csv\n",
      "/kaggle/input/spaceship-titanic/sample_submission.csv\n",
      "/kaggle/input/spaceship-titanic/train.csv\n",
      "/kaggle/input/spaceship-titanic/test.csv\n"
     ]
    }
   ],
   "source": [
    "import numpy as np\n",
    "import pandas as pd \n",
    "import os\n",
    "for dirname, _, filenames in os.walk('/kaggle/input'):\n",
    "    for filename in filenames:\n",
    "        print(os.path.join(dirname, filename))"
   ]
  },
  {
   "cell_type": "code",
   "execution_count": 2,
   "metadata": {
    "execution": {
     "iopub.execute_input": "2022-11-28T00:26:07.415264Z",
     "iopub.status.busy": "2022-11-28T00:26:07.413848Z",
     "iopub.status.idle": "2022-11-28T00:26:07.486118Z",
     "shell.execute_reply": "2022-11-28T00:26:07.485303Z",
     "shell.execute_reply.started": "2022-11-28T00:26:07.415181Z"
    }
   },
   "outputs": [],
   "source": [
    "PATH = '/kaggle/input/spaceship-titanic'\n",
    "train = pd.read_csv(f'{PATH}/train.csv')\n",
    "test = pd.read_csv(f'{PATH}/test.csv')"
   ]
  },
  {
   "cell_type": "code",
   "execution_count": 3,
   "metadata": {
    "execution": {
     "iopub.execute_input": "2022-11-28T00:26:07.487817Z",
     "iopub.status.busy": "2022-11-28T00:26:07.487521Z",
     "iopub.status.idle": "2022-11-28T00:26:07.523973Z",
     "shell.execute_reply": "2022-11-28T00:26:07.522304Z",
     "shell.execute_reply.started": "2022-11-28T00:26:07.487792Z"
    }
   },
   "outputs": [
    {
     "data": {
      "text/html": [
       "<div>\n",
       "<style scoped>\n",
       "    .dataframe tbody tr th:only-of-type {\n",
       "        vertical-align: middle;\n",
       "    }\n",
       "\n",
       "    .dataframe tbody tr th {\n",
       "        vertical-align: top;\n",
       "    }\n",
       "\n",
       "    .dataframe thead th {\n",
       "        text-align: right;\n",
       "    }\n",
       "</style>\n",
       "<table border=\"1\" class=\"dataframe\">\n",
       "  <thead>\n",
       "    <tr style=\"text-align: right;\">\n",
       "      <th></th>\n",
       "      <th>PassengerId</th>\n",
       "      <th>HomePlanet</th>\n",
       "      <th>CryoSleep</th>\n",
       "      <th>Cabin</th>\n",
       "      <th>Destination</th>\n",
       "      <th>Age</th>\n",
       "      <th>VIP</th>\n",
       "      <th>RoomService</th>\n",
       "      <th>FoodCourt</th>\n",
       "      <th>ShoppingMall</th>\n",
       "      <th>Spa</th>\n",
       "      <th>VRDeck</th>\n",
       "      <th>Name</th>\n",
       "      <th>Transported</th>\n",
       "    </tr>\n",
       "  </thead>\n",
       "  <tbody>\n",
       "    <tr>\n",
       "      <th>0</th>\n",
       "      <td>0001_01</td>\n",
       "      <td>Europa</td>\n",
       "      <td>False</td>\n",
       "      <td>B/0/P</td>\n",
       "      <td>TRAPPIST-1e</td>\n",
       "      <td>39.0</td>\n",
       "      <td>False</td>\n",
       "      <td>0.0</td>\n",
       "      <td>0.0</td>\n",
       "      <td>0.0</td>\n",
       "      <td>0.0</td>\n",
       "      <td>0.0</td>\n",
       "      <td>Maham Ofracculy</td>\n",
       "      <td>False</td>\n",
       "    </tr>\n",
       "    <tr>\n",
       "      <th>1</th>\n",
       "      <td>0002_01</td>\n",
       "      <td>Earth</td>\n",
       "      <td>False</td>\n",
       "      <td>F/0/S</td>\n",
       "      <td>TRAPPIST-1e</td>\n",
       "      <td>24.0</td>\n",
       "      <td>False</td>\n",
       "      <td>109.0</td>\n",
       "      <td>9.0</td>\n",
       "      <td>25.0</td>\n",
       "      <td>549.0</td>\n",
       "      <td>44.0</td>\n",
       "      <td>Juanna Vines</td>\n",
       "      <td>True</td>\n",
       "    </tr>\n",
       "    <tr>\n",
       "      <th>2</th>\n",
       "      <td>0003_01</td>\n",
       "      <td>Europa</td>\n",
       "      <td>False</td>\n",
       "      <td>A/0/S</td>\n",
       "      <td>TRAPPIST-1e</td>\n",
       "      <td>58.0</td>\n",
       "      <td>True</td>\n",
       "      <td>43.0</td>\n",
       "      <td>3576.0</td>\n",
       "      <td>0.0</td>\n",
       "      <td>6715.0</td>\n",
       "      <td>49.0</td>\n",
       "      <td>Altark Susent</td>\n",
       "      <td>False</td>\n",
       "    </tr>\n",
       "    <tr>\n",
       "      <th>3</th>\n",
       "      <td>0003_02</td>\n",
       "      <td>Europa</td>\n",
       "      <td>False</td>\n",
       "      <td>A/0/S</td>\n",
       "      <td>TRAPPIST-1e</td>\n",
       "      <td>33.0</td>\n",
       "      <td>False</td>\n",
       "      <td>0.0</td>\n",
       "      <td>1283.0</td>\n",
       "      <td>371.0</td>\n",
       "      <td>3329.0</td>\n",
       "      <td>193.0</td>\n",
       "      <td>Solam Susent</td>\n",
       "      <td>False</td>\n",
       "    </tr>\n",
       "    <tr>\n",
       "      <th>4</th>\n",
       "      <td>0004_01</td>\n",
       "      <td>Earth</td>\n",
       "      <td>False</td>\n",
       "      <td>F/1/S</td>\n",
       "      <td>TRAPPIST-1e</td>\n",
       "      <td>16.0</td>\n",
       "      <td>False</td>\n",
       "      <td>303.0</td>\n",
       "      <td>70.0</td>\n",
       "      <td>151.0</td>\n",
       "      <td>565.0</td>\n",
       "      <td>2.0</td>\n",
       "      <td>Willy Santantines</td>\n",
       "      <td>True</td>\n",
       "    </tr>\n",
       "  </tbody>\n",
       "</table>\n",
       "</div>"
      ],
      "text/plain": [
       "  PassengerId HomePlanet CryoSleep  Cabin  Destination   Age    VIP  \\\n",
       "0     0001_01     Europa     False  B/0/P  TRAPPIST-1e  39.0  False   \n",
       "1     0002_01      Earth     False  F/0/S  TRAPPIST-1e  24.0  False   \n",
       "2     0003_01     Europa     False  A/0/S  TRAPPIST-1e  58.0   True   \n",
       "3     0003_02     Europa     False  A/0/S  TRAPPIST-1e  33.0  False   \n",
       "4     0004_01      Earth     False  F/1/S  TRAPPIST-1e  16.0  False   \n",
       "\n",
       "   RoomService  FoodCourt  ShoppingMall     Spa  VRDeck               Name  \\\n",
       "0          0.0        0.0           0.0     0.0     0.0    Maham Ofracculy   \n",
       "1        109.0        9.0          25.0   549.0    44.0       Juanna Vines   \n",
       "2         43.0     3576.0           0.0  6715.0    49.0      Altark Susent   \n",
       "3          0.0     1283.0         371.0  3329.0   193.0       Solam Susent   \n",
       "4        303.0       70.0         151.0   565.0     2.0  Willy Santantines   \n",
       "\n",
       "   Transported  \n",
       "0        False  \n",
       "1         True  \n",
       "2        False  \n",
       "3        False  \n",
       "4         True  "
      ]
     },
     "execution_count": 3,
     "metadata": {},
     "output_type": "execute_result"
    }
   ],
   "source": [
    "train.head()"
   ]
  },
  {
   "cell_type": "code",
   "execution_count": 4,
   "metadata": {
    "execution": {
     "iopub.execute_input": "2022-11-28T00:26:07.527638Z",
     "iopub.status.busy": "2022-11-28T00:26:07.527329Z",
     "iopub.status.idle": "2022-11-28T00:26:07.560964Z",
     "shell.execute_reply": "2022-11-28T00:26:07.559949Z",
     "shell.execute_reply.started": "2022-11-28T00:26:07.527613Z"
    }
   },
   "outputs": [
    {
     "name": "stdout",
     "output_type": "stream",
     "text": [
      "<class 'pandas.core.frame.DataFrame'>\n",
      "RangeIndex: 8693 entries, 0 to 8692\n",
      "Data columns (total 14 columns):\n",
      " #   Column        Non-Null Count  Dtype  \n",
      "---  ------        --------------  -----  \n",
      " 0   PassengerId   8693 non-null   object \n",
      " 1   HomePlanet    8492 non-null   object \n",
      " 2   CryoSleep     8476 non-null   object \n",
      " 3   Cabin         8494 non-null   object \n",
      " 4   Destination   8511 non-null   object \n",
      " 5   Age           8514 non-null   float64\n",
      " 6   VIP           8490 non-null   object \n",
      " 7   RoomService   8512 non-null   float64\n",
      " 8   FoodCourt     8510 non-null   float64\n",
      " 9   ShoppingMall  8485 non-null   float64\n",
      " 10  Spa           8510 non-null   float64\n",
      " 11  VRDeck        8505 non-null   float64\n",
      " 12  Name          8493 non-null   object \n",
      " 13  Transported   8693 non-null   bool   \n",
      "dtypes: bool(1), float64(6), object(7)\n",
      "memory usage: 891.5+ KB\n"
     ]
    }
   ],
   "source": [
    "train.info()"
   ]
  },
  {
   "cell_type": "markdown",
   "metadata": {},
   "source": [
    "## feature engineering"
   ]
  },
  {
   "cell_type": "code",
   "execution_count": 5,
   "metadata": {
    "execution": {
     "iopub.execute_input": "2022-11-28T00:26:07.563091Z",
     "iopub.status.busy": "2022-11-28T00:26:07.562714Z",
     "iopub.status.idle": "2022-11-28T00:26:07.596854Z",
     "shell.execute_reply": "2022-11-28T00:26:07.595602Z",
     "shell.execute_reply.started": "2022-11-28T00:26:07.563055Z"
    }
   },
   "outputs": [],
   "source": [
    "train['Transported'].replace(False, 0, inplace=True)\n",
    "train['Transported'].replace(True, 1, inplace=True)\n",
    "\n",
    "train.Transported = train.Transported.astype(int)\n",
    "\n",
    "train['VIP'].replace(False, 0, inplace=True)\n",
    "train['VIP'].replace(True, 1, inplace=True)\n",
    "test['VIP'].replace(False, 0, inplace=True)\n",
    "test['VIP'].replace(True, 1, inplace=True)\n",
    "\n",
    "test.VIP = test.VIP.astype(\"Int8\")\n",
    "train.VIP = train.VIP.astype(\"Int8\")\n",
    "\n",
    "train.CryoSleep.replace(False, 0, inplace=True)\n",
    "test.CryoSleep.replace(False, 0, inplace=True)\n",
    "\n",
    "train.CryoSleep.replace(True, 1, inplace=True)\n",
    "test.CryoSleep.replace(True, 1, inplace=True)\n",
    "\n",
    "test.CryoSleep = test.CryoSleep.astype(\"Int8\")\n",
    "train.CryoSleep = train.CryoSleep.astype(\"Int8\")"
   ]
  },
  {
   "cell_type": "code",
   "execution_count": 6,
   "metadata": {
    "execution": {
     "iopub.execute_input": "2022-11-28T00:26:07.599435Z",
     "iopub.status.busy": "2022-11-28T00:26:07.599027Z",
     "iopub.status.idle": "2022-11-28T00:26:07.636766Z",
     "shell.execute_reply": "2022-11-28T00:26:07.635472Z",
     "shell.execute_reply.started": "2022-11-28T00:26:07.599402Z"
    }
   },
   "outputs": [],
   "source": [
    "train[['deck','num', 'side']] = train['Cabin'].str.split('/', expand=True)\n",
    "test[['deck','num', 'side']] = test['Cabin'].str.split('/', expand=True)\n",
    "\n",
    "train.drop('Cabin', axis=1, inplace=True)\n",
    "test.drop('Cabin', axis=1, inplace=True)"
   ]
  },
  {
   "cell_type": "code",
   "execution_count": 7,
   "metadata": {
    "execution": {
     "iopub.execute_input": "2022-11-28T00:26:07.639855Z",
     "iopub.status.busy": "2022-11-28T00:26:07.639414Z",
     "iopub.status.idle": "2022-11-28T00:26:07.657658Z",
     "shell.execute_reply": "2022-11-28T00:26:07.656336Z",
     "shell.execute_reply.started": "2022-11-28T00:26:07.639818Z"
    }
   },
   "outputs": [],
   "source": [
    "col_to_sum = ['RoomService', 'FoodCourt', 'ShoppingMall', 'Spa', 'VRDeck']\n",
    "\n",
    "train['SumSpends'] = train[col_to_sum].sum(axis=1)\n",
    "test['SumSpends'] = test[col_to_sum].sum(axis=1)\n",
    "\n",
    "train['MaxSpends'] = train[col_to_sum].max(axis=1)\n",
    "test['MaxSpends'] = test[col_to_sum].max(axis=1)"
   ]
  },
  {
   "cell_type": "code",
   "execution_count": 8,
   "metadata": {
    "execution": {
     "iopub.execute_input": "2022-11-28T00:26:07.659713Z",
     "iopub.status.busy": "2022-11-28T00:26:07.659332Z",
     "iopub.status.idle": "2022-11-28T00:26:07.669118Z",
     "shell.execute_reply": "2022-11-28T00:26:07.667736Z",
     "shell.execute_reply.started": "2022-11-28T00:26:07.659683Z"
    }
   },
   "outputs": [],
   "source": [
    "train['log_spend'] = np.log(train.SumSpends + 1)\n",
    "test['log_spend'] = np.log(test.SumSpends + 1)"
   ]
  },
  {
   "cell_type": "code",
   "execution_count": 9,
   "metadata": {
    "execution": {
     "iopub.execute_input": "2022-11-28T00:26:07.671417Z",
     "iopub.status.busy": "2022-11-28T00:26:07.671035Z",
     "iopub.status.idle": "2022-11-28T00:26:07.686867Z",
     "shell.execute_reply": "2022-11-28T00:26:07.684948Z",
     "shell.execute_reply.started": "2022-11-28T00:26:07.671384Z"
    }
   },
   "outputs": [],
   "source": [
    "null_cols = train.isnull().sum().sort_values(ascending=False)\n",
    "null_cols = list(null_cols[null_cols>1].index)"
   ]
  },
  {
   "cell_type": "code",
   "execution_count": 10,
   "metadata": {
    "execution": {
     "iopub.execute_input": "2022-11-28T00:26:07.691084Z",
     "iopub.status.busy": "2022-11-28T00:26:07.690567Z",
     "iopub.status.idle": "2022-11-28T00:26:09.030613Z",
     "shell.execute_reply": "2022-11-28T00:26:09.029384Z",
     "shell.execute_reply.started": "2022-11-28T00:26:07.691051Z"
    }
   },
   "outputs": [],
   "source": [
    "object_cols = [col for col in train.columns if train[col].dtype == 'object' or train[col].dtype == 'category']\n",
    "from sklearn.preprocessing import OrdinalEncoder\n",
    "oc = OrdinalEncoder()\n",
    "df_for_encode = pd.concat([train, test])\n",
    "df_for_encode[object_cols] = df_for_encode[object_cols].astype('category')\n",
    "df_for_encode[object_cols] = oc.fit_transform(df_for_encode[object_cols])\n",
    "del train, test\n",
    "train = df_for_encode.iloc[:8693, :]\n",
    "test = df_for_encode.iloc[8693: , :]\n",
    "del df_for_encode\n",
    "test.drop('Transported', inplace=True, axis=1)"
   ]
  },
  {
   "cell_type": "code",
   "execution_count": 11,
   "metadata": {
    "execution": {
     "iopub.execute_input": "2022-11-28T00:26:09.031995Z",
     "iopub.status.busy": "2022-11-28T00:26:09.031725Z",
     "iopub.status.idle": "2022-11-28T00:26:09.309352Z",
     "shell.execute_reply": "2022-11-28T00:26:09.308161Z",
     "shell.execute_reply.started": "2022-11-28T00:26:09.031971Z"
    }
   },
   "outputs": [],
   "source": [
    "from sklearn.impute import SimpleImputer\n",
    "from sklearn.compose import ColumnTransformer\n",
    "ct = ColumnTransformer([(\"imp\", SimpleImputer(strategy='mean'), null_cols)])\n",
    "train[null_cols] = ct.fit_transform(train[null_cols])\n",
    "test[null_cols] = ct.transform(test[null_cols])"
   ]
  },
  {
   "cell_type": "code",
   "execution_count": 12,
   "metadata": {
    "execution": {
     "iopub.execute_input": "2022-11-28T00:26:09.311190Z",
     "iopub.status.busy": "2022-11-28T00:26:09.310492Z",
     "iopub.status.idle": "2022-11-28T00:26:09.320923Z",
     "shell.execute_reply": "2022-11-28T00:26:09.320096Z",
     "shell.execute_reply.started": "2022-11-28T00:26:09.311155Z"
    }
   },
   "outputs": [
    {
     "name": "stdout",
     "output_type": "stream",
     "text": [
      "Shapes are equal. We are ready to train models.\n"
     ]
    }
   ],
   "source": [
    "train.drop('PassengerId', axis=1, inplace = True)\n",
    "test.drop('PassengerId', axis=1, inplace = True)\n",
    "y_train = train['Transported']\n",
    "X_train = train.drop('Transported', axis=1)\n",
    "X_test = test\n",
    "if X_train.shape[1] == X_test.shape[1]:\n",
    "    print('Shapes are equal. We are ready to train models.')\n",
    "else:\n",
    "    print('There is something wrong in preprocessing steps.')"
   ]
  },
  {
   "cell_type": "code",
   "execution_count": 17,
   "metadata": {
    "execution": {
     "iopub.execute_input": "2022-11-28T00:27:34.874692Z",
     "iopub.status.busy": "2022-11-28T00:27:34.873996Z",
     "iopub.status.idle": "2022-11-28T00:27:40.003766Z",
     "shell.execute_reply": "2022-11-28T00:27:40.003036Z",
     "shell.execute_reply.started": "2022-11-28T00:27:34.874653Z"
    }
   },
   "outputs": [
    {
     "data": {
      "text/html": [
       "<style type='text/css'>\n",
       ".datatable table.frame { margin-bottom: 0; }\n",
       ".datatable table.frame thead { border-bottom: none; }\n",
       ".datatable table.frame tr.coltypes td {  color: #FFFFFF;  line-height: 6px;  padding: 0 0.5em;}\n",
       ".datatable .bool    { background: #DDDD99; }\n",
       ".datatable .object  { background: #565656; }\n",
       ".datatable .int     { background: #5D9E5D; }\n",
       ".datatable .float   { background: #4040CC; }\n",
       ".datatable .str     { background: #CC4040; }\n",
       ".datatable .time    { background: #40CC40; }\n",
       ".datatable .row_index {  background: var(--jp-border-color3);  border-right: 1px solid var(--jp-border-color0);  color: var(--jp-ui-font-color3);  font-size: 9px;}\n",
       ".datatable .frame tbody td { text-align: left; }\n",
       ".datatable .frame tr.coltypes .row_index {  background: var(--jp-border-color0);}\n",
       ".datatable th:nth-child(2) { padding-left: 12px; }\n",
       ".datatable .hellipsis {  color: var(--jp-cell-editor-border-color);}\n",
       ".datatable .vellipsis {  background: var(--jp-layout-color0);  color: var(--jp-cell-editor-border-color);}\n",
       ".datatable .na {  color: var(--jp-cell-editor-border-color);  font-size: 80%;}\n",
       ".datatable .sp {  opacity: 0.25;}\n",
       ".datatable .footer { font-size: 9px; }\n",
       ".datatable .frame_dimensions {  background: var(--jp-border-color3);  border-top: 1px solid var(--jp-border-color0);  color: var(--jp-ui-font-color3);  display: inline-block;  opacity: 0.6;  padding: 1px 10px 1px 5px;}\n",
       "</style>\n"
      ],
      "text/plain": [
       "<IPython.core.display.HTML object>"
      ]
     },
     "metadata": {},
     "output_type": "display_data"
    },
    {
     "name": "stdout",
     "output_type": "stream",
     "text": [
      "Accuracy = 0.8104228592016007\n",
      "fold accuracy: [0.8045078196872125, 0.8117809479981593, 0.8062586286240221, 0.8191440404970087]\n"
     ]
    }
   ],
   "source": [
    "from lightgbm import LGBMClassifier\n",
    "fold_accuracy = []\n",
    "for tr_idx, val_idx in cv.split(X_train, y_train):\n",
    "    X_tr, y_tr, X_val, y_val = X_train.iloc[tr_idx], y_train.iloc[tr_idx], X_train.iloc[val_idx], y_train.iloc[val_idx]\n",
    "    model = LGBMClassifier(min_child_weight=0.8, random_state=1, n_estimators=600, learning_rate = 0.01, subsample=0.7, subsample_freq=1, colsample_bytree = 0.85)\n",
    "    model.fit(X_tr, y_tr)\n",
    "    pred_fold = model.predict(X_val)\n",
    "    fold_accuracy.append(accuracy_score(pred_fold, y_val))\n",
    "\n",
    "print(f'Accuracy = {np.mean(fold_accuracy)}')\n",
    "print(f'fold accuracy: {fold_accuracy}')"
   ]
  },
  {
   "cell_type": "code",
   "execution_count": 18,
   "metadata": {
    "execution": {
     "iopub.execute_input": "2022-11-28T00:27:40.007480Z",
     "iopub.status.busy": "2022-11-28T00:27:40.004788Z",
     "iopub.status.idle": "2022-11-28T00:27:53.509508Z",
     "shell.execute_reply": "2022-11-28T00:27:53.508593Z",
     "shell.execute_reply.started": "2022-11-28T00:27:40.007430Z"
    }
   },
   "outputs": [
    {
     "name": "stdout",
     "output_type": "stream",
     "text": [
      "Train Accuracy: 0.8620729322443346\n",
      "Train Accuracy: 0.8632232831013459\n",
      "Train Accuracy: 0.8631082480156448\n",
      "Train Accuracy: 0.8634533532727482\n",
      "Train Accuracy: 0.8631082480156448\n",
      "Train Accuracy: 0.864143563786955\n",
      "Train Accuracy: 0.8631082480156448\n",
      "Train Accuracy: 0.8603474059588174\n",
      "Train Accuracy: 0.8637984585298516\n",
      "Train Accuracy: 0.8631082480156448\n"
     ]
    }
   ],
   "source": [
    "for i in range(10):\n",
    "    lgb = LGBMClassifier(min_child_weight=0.8, random_state=i*5 + 6, n_estimators=600, learning_rate = 0.01, subsample=0.7, subsample_freq=1, colsample_bytree = 0.85)\n",
    "    lgb.fit(X_train, y_train)\n",
    "    print(f\"Train Accuracy: {accuracy_score(y_train, lgb.predict(X_train))}\")\n",
    "    predictions[f\"LGB_{i}\"] = lgb.predict_proba(X_test)[:, 1]"
   ]
  },
  {
   "cell_type": "code",
   "execution_count": 19,
   "metadata": {
    "execution": {
     "iopub.execute_input": "2022-11-28T00:27:53.513481Z",
     "iopub.status.busy": "2022-11-28T00:27:53.513108Z",
     "iopub.status.idle": "2022-11-28T00:27:53.540569Z",
     "shell.execute_reply": "2022-11-28T00:27:53.539274Z",
     "shell.execute_reply.started": "2022-11-28T00:27:53.513451Z"
    }
   },
   "outputs": [],
   "source": [
    "nn_pred_data = pd.read_csv('/kaggle/input/nnpreds/neural3.csv')"
   ]
  },
  {
   "cell_type": "code",
   "execution_count": 20,
   "metadata": {
    "execution": {
     "iopub.execute_input": "2022-11-28T00:27:53.542630Z",
     "iopub.status.busy": "2022-11-28T00:27:53.542155Z",
     "iopub.status.idle": "2022-11-28T00:27:53.584787Z",
     "shell.execute_reply": "2022-11-28T00:27:53.583359Z",
     "shell.execute_reply.started": "2022-11-28T00:27:53.542590Z"
    }
   },
   "outputs": [
    {
     "data": {
      "text/html": [
       "<div>\n",
       "<style scoped>\n",
       "    .dataframe tbody tr th:only-of-type {\n",
       "        vertical-align: middle;\n",
       "    }\n",
       "\n",
       "    .dataframe tbody tr th {\n",
       "        vertical-align: top;\n",
       "    }\n",
       "\n",
       "    .dataframe thead th {\n",
       "        text-align: right;\n",
       "    }\n",
       "</style>\n",
       "<table border=\"1\" class=\"dataframe\">\n",
       "  <thead>\n",
       "    <tr style=\"text-align: right;\">\n",
       "      <th></th>\n",
       "      <th>CATB_0</th>\n",
       "      <th>CATB_1</th>\n",
       "      <th>CATB_2</th>\n",
       "      <th>CATB_3</th>\n",
       "      <th>CATB_4</th>\n",
       "      <th>CATB_5</th>\n",
       "      <th>CATB_6</th>\n",
       "      <th>CATB_7</th>\n",
       "      <th>CATB_8</th>\n",
       "      <th>CATB_9</th>\n",
       "      <th>...</th>\n",
       "      <th>LGB_0</th>\n",
       "      <th>LGB_1</th>\n",
       "      <th>LGB_2</th>\n",
       "      <th>LGB_3</th>\n",
       "      <th>LGB_4</th>\n",
       "      <th>LGB_5</th>\n",
       "      <th>LGB_6</th>\n",
       "      <th>LGB_7</th>\n",
       "      <th>LGB_8</th>\n",
       "      <th>LGB_9</th>\n",
       "    </tr>\n",
       "  </thead>\n",
       "  <tbody>\n",
       "    <tr>\n",
       "      <th>0</th>\n",
       "      <td>0.497882</td>\n",
       "      <td>0.510471</td>\n",
       "      <td>0.506180</td>\n",
       "      <td>0.506108</td>\n",
       "      <td>0.508351</td>\n",
       "      <td>0.493178</td>\n",
       "      <td>0.488667</td>\n",
       "      <td>0.499579</td>\n",
       "      <td>0.516247</td>\n",
       "      <td>0.500527</td>\n",
       "      <td>...</td>\n",
       "      <td>0.503036</td>\n",
       "      <td>0.484318</td>\n",
       "      <td>0.504573</td>\n",
       "      <td>0.488331</td>\n",
       "      <td>0.473934</td>\n",
       "      <td>0.500993</td>\n",
       "      <td>0.483331</td>\n",
       "      <td>0.506074</td>\n",
       "      <td>0.495155</td>\n",
       "      <td>0.478201</td>\n",
       "    </tr>\n",
       "    <tr>\n",
       "      <th>1</th>\n",
       "      <td>0.008502</td>\n",
       "      <td>0.009995</td>\n",
       "      <td>0.009930</td>\n",
       "      <td>0.009653</td>\n",
       "      <td>0.010118</td>\n",
       "      <td>0.010085</td>\n",
       "      <td>0.012606</td>\n",
       "      <td>0.009440</td>\n",
       "      <td>0.009513</td>\n",
       "      <td>0.007029</td>\n",
       "      <td>...</td>\n",
       "      <td>0.027696</td>\n",
       "      <td>0.023711</td>\n",
       "      <td>0.028096</td>\n",
       "      <td>0.025474</td>\n",
       "      <td>0.026661</td>\n",
       "      <td>0.024078</td>\n",
       "      <td>0.025711</td>\n",
       "      <td>0.025755</td>\n",
       "      <td>0.026196</td>\n",
       "      <td>0.026953</td>\n",
       "    </tr>\n",
       "    <tr>\n",
       "      <th>2</th>\n",
       "      <td>0.987550</td>\n",
       "      <td>0.987205</td>\n",
       "      <td>0.989135</td>\n",
       "      <td>0.989356</td>\n",
       "      <td>0.988090</td>\n",
       "      <td>0.991690</td>\n",
       "      <td>0.983654</td>\n",
       "      <td>0.991016</td>\n",
       "      <td>0.988097</td>\n",
       "      <td>0.988860</td>\n",
       "      <td>...</td>\n",
       "      <td>0.986077</td>\n",
       "      <td>0.985884</td>\n",
       "      <td>0.986530</td>\n",
       "      <td>0.985316</td>\n",
       "      <td>0.985799</td>\n",
       "      <td>0.985372</td>\n",
       "      <td>0.984801</td>\n",
       "      <td>0.986628</td>\n",
       "      <td>0.985154</td>\n",
       "      <td>0.985810</td>\n",
       "    </tr>\n",
       "    <tr>\n",
       "      <th>3</th>\n",
       "      <td>0.958154</td>\n",
       "      <td>0.978107</td>\n",
       "      <td>0.975138</td>\n",
       "      <td>0.963491</td>\n",
       "      <td>0.982041</td>\n",
       "      <td>0.965070</td>\n",
       "      <td>0.958512</td>\n",
       "      <td>0.961243</td>\n",
       "      <td>0.977743</td>\n",
       "      <td>0.976171</td>\n",
       "      <td>...</td>\n",
       "      <td>0.979216</td>\n",
       "      <td>0.976977</td>\n",
       "      <td>0.977401</td>\n",
       "      <td>0.975618</td>\n",
       "      <td>0.977401</td>\n",
       "      <td>0.977937</td>\n",
       "      <td>0.979969</td>\n",
       "      <td>0.978059</td>\n",
       "      <td>0.980742</td>\n",
       "      <td>0.977690</td>\n",
       "    </tr>\n",
       "    <tr>\n",
       "      <th>4</th>\n",
       "      <td>0.441696</td>\n",
       "      <td>0.404784</td>\n",
       "      <td>0.467650</td>\n",
       "      <td>0.445773</td>\n",
       "      <td>0.437000</td>\n",
       "      <td>0.428519</td>\n",
       "      <td>0.398749</td>\n",
       "      <td>0.498477</td>\n",
       "      <td>0.381234</td>\n",
       "      <td>0.459468</td>\n",
       "      <td>...</td>\n",
       "      <td>0.555487</td>\n",
       "      <td>0.559281</td>\n",
       "      <td>0.559480</td>\n",
       "      <td>0.514732</td>\n",
       "      <td>0.555586</td>\n",
       "      <td>0.538672</td>\n",
       "      <td>0.555605</td>\n",
       "      <td>0.566818</td>\n",
       "      <td>0.522659</td>\n",
       "      <td>0.570601</td>\n",
       "    </tr>\n",
       "    <tr>\n",
       "      <th>...</th>\n",
       "      <td>...</td>\n",
       "      <td>...</td>\n",
       "      <td>...</td>\n",
       "      <td>...</td>\n",
       "      <td>...</td>\n",
       "      <td>...</td>\n",
       "      <td>...</td>\n",
       "      <td>...</td>\n",
       "      <td>...</td>\n",
       "      <td>...</td>\n",
       "      <td>...</td>\n",
       "      <td>...</td>\n",
       "      <td>...</td>\n",
       "      <td>...</td>\n",
       "      <td>...</td>\n",
       "      <td>...</td>\n",
       "      <td>...</td>\n",
       "      <td>...</td>\n",
       "      <td>...</td>\n",
       "      <td>...</td>\n",
       "      <td>...</td>\n",
       "    </tr>\n",
       "    <tr>\n",
       "      <th>4272</th>\n",
       "      <td>0.567760</td>\n",
       "      <td>0.567971</td>\n",
       "      <td>0.579312</td>\n",
       "      <td>0.568902</td>\n",
       "      <td>0.574212</td>\n",
       "      <td>0.567316</td>\n",
       "      <td>0.570723</td>\n",
       "      <td>0.609953</td>\n",
       "      <td>0.569184</td>\n",
       "      <td>0.577594</td>\n",
       "      <td>...</td>\n",
       "      <td>0.582040</td>\n",
       "      <td>0.569525</td>\n",
       "      <td>0.563353</td>\n",
       "      <td>0.570644</td>\n",
       "      <td>0.557133</td>\n",
       "      <td>0.576950</td>\n",
       "      <td>0.563570</td>\n",
       "      <td>0.567219</td>\n",
       "      <td>0.559196</td>\n",
       "      <td>0.555340</td>\n",
       "    </tr>\n",
       "    <tr>\n",
       "      <th>4273</th>\n",
       "      <td>0.392227</td>\n",
       "      <td>0.337847</td>\n",
       "      <td>0.354892</td>\n",
       "      <td>0.359964</td>\n",
       "      <td>0.354514</td>\n",
       "      <td>0.355536</td>\n",
       "      <td>0.340354</td>\n",
       "      <td>0.346836</td>\n",
       "      <td>0.316497</td>\n",
       "      <td>0.383349</td>\n",
       "      <td>...</td>\n",
       "      <td>0.347620</td>\n",
       "      <td>0.345438</td>\n",
       "      <td>0.348926</td>\n",
       "      <td>0.313218</td>\n",
       "      <td>0.311667</td>\n",
       "      <td>0.348509</td>\n",
       "      <td>0.372706</td>\n",
       "      <td>0.358807</td>\n",
       "      <td>0.342450</td>\n",
       "      <td>0.334307</td>\n",
       "    </tr>\n",
       "    <tr>\n",
       "      <th>4274</th>\n",
       "      <td>0.927754</td>\n",
       "      <td>0.933207</td>\n",
       "      <td>0.922581</td>\n",
       "      <td>0.920993</td>\n",
       "      <td>0.920594</td>\n",
       "      <td>0.929109</td>\n",
       "      <td>0.913531</td>\n",
       "      <td>0.923110</td>\n",
       "      <td>0.935889</td>\n",
       "      <td>0.911757</td>\n",
       "      <td>...</td>\n",
       "      <td>0.948987</td>\n",
       "      <td>0.954905</td>\n",
       "      <td>0.951652</td>\n",
       "      <td>0.947809</td>\n",
       "      <td>0.946062</td>\n",
       "      <td>0.942756</td>\n",
       "      <td>0.956614</td>\n",
       "      <td>0.955638</td>\n",
       "      <td>0.952143</td>\n",
       "      <td>0.948141</td>\n",
       "    </tr>\n",
       "    <tr>\n",
       "      <th>4275</th>\n",
       "      <td>0.812156</td>\n",
       "      <td>0.816479</td>\n",
       "      <td>0.771336</td>\n",
       "      <td>0.790336</td>\n",
       "      <td>0.821816</td>\n",
       "      <td>0.823036</td>\n",
       "      <td>0.810554</td>\n",
       "      <td>0.869337</td>\n",
       "      <td>0.825411</td>\n",
       "      <td>0.852225</td>\n",
       "      <td>...</td>\n",
       "      <td>0.797946</td>\n",
       "      <td>0.754107</td>\n",
       "      <td>0.773352</td>\n",
       "      <td>0.763374</td>\n",
       "      <td>0.747373</td>\n",
       "      <td>0.740391</td>\n",
       "      <td>0.755998</td>\n",
       "      <td>0.764890</td>\n",
       "      <td>0.761909</td>\n",
       "      <td>0.757847</td>\n",
       "    </tr>\n",
       "    <tr>\n",
       "      <th>4276</th>\n",
       "      <td>0.594107</td>\n",
       "      <td>0.614047</td>\n",
       "      <td>0.610574</td>\n",
       "      <td>0.580736</td>\n",
       "      <td>0.586234</td>\n",
       "      <td>0.601814</td>\n",
       "      <td>0.598211</td>\n",
       "      <td>0.590511</td>\n",
       "      <td>0.596168</td>\n",
       "      <td>0.594888</td>\n",
       "      <td>...</td>\n",
       "      <td>0.609768</td>\n",
       "      <td>0.588461</td>\n",
       "      <td>0.599158</td>\n",
       "      <td>0.592723</td>\n",
       "      <td>0.589737</td>\n",
       "      <td>0.584475</td>\n",
       "      <td>0.590924</td>\n",
       "      <td>0.586225</td>\n",
       "      <td>0.600869</td>\n",
       "      <td>0.600745</td>\n",
       "    </tr>\n",
       "  </tbody>\n",
       "</table>\n",
       "<p>4277 rows × 30 columns</p>\n",
       "</div>"
      ],
      "text/plain": [
       "        CATB_0    CATB_1    CATB_2    CATB_3    CATB_4    CATB_5    CATB_6  \\\n",
       "0     0.497882  0.510471  0.506180  0.506108  0.508351  0.493178  0.488667   \n",
       "1     0.008502  0.009995  0.009930  0.009653  0.010118  0.010085  0.012606   \n",
       "2     0.987550  0.987205  0.989135  0.989356  0.988090  0.991690  0.983654   \n",
       "3     0.958154  0.978107  0.975138  0.963491  0.982041  0.965070  0.958512   \n",
       "4     0.441696  0.404784  0.467650  0.445773  0.437000  0.428519  0.398749   \n",
       "...        ...       ...       ...       ...       ...       ...       ...   \n",
       "4272  0.567760  0.567971  0.579312  0.568902  0.574212  0.567316  0.570723   \n",
       "4273  0.392227  0.337847  0.354892  0.359964  0.354514  0.355536  0.340354   \n",
       "4274  0.927754  0.933207  0.922581  0.920993  0.920594  0.929109  0.913531   \n",
       "4275  0.812156  0.816479  0.771336  0.790336  0.821816  0.823036  0.810554   \n",
       "4276  0.594107  0.614047  0.610574  0.580736  0.586234  0.601814  0.598211   \n",
       "\n",
       "        CATB_7    CATB_8    CATB_9  ...     LGB_0     LGB_1     LGB_2  \\\n",
       "0     0.499579  0.516247  0.500527  ...  0.503036  0.484318  0.504573   \n",
       "1     0.009440  0.009513  0.007029  ...  0.027696  0.023711  0.028096   \n",
       "2     0.991016  0.988097  0.988860  ...  0.986077  0.985884  0.986530   \n",
       "3     0.961243  0.977743  0.976171  ...  0.979216  0.976977  0.977401   \n",
       "4     0.498477  0.381234  0.459468  ...  0.555487  0.559281  0.559480   \n",
       "...        ...       ...       ...  ...       ...       ...       ...   \n",
       "4272  0.609953  0.569184  0.577594  ...  0.582040  0.569525  0.563353   \n",
       "4273  0.346836  0.316497  0.383349  ...  0.347620  0.345438  0.348926   \n",
       "4274  0.923110  0.935889  0.911757  ...  0.948987  0.954905  0.951652   \n",
       "4275  0.869337  0.825411  0.852225  ...  0.797946  0.754107  0.773352   \n",
       "4276  0.590511  0.596168  0.594888  ...  0.609768  0.588461  0.599158   \n",
       "\n",
       "         LGB_3     LGB_4     LGB_5     LGB_6     LGB_7     LGB_8     LGB_9  \n",
       "0     0.488331  0.473934  0.500993  0.483331  0.506074  0.495155  0.478201  \n",
       "1     0.025474  0.026661  0.024078  0.025711  0.025755  0.026196  0.026953  \n",
       "2     0.985316  0.985799  0.985372  0.984801  0.986628  0.985154  0.985810  \n",
       "3     0.975618  0.977401  0.977937  0.979969  0.978059  0.980742  0.977690  \n",
       "4     0.514732  0.555586  0.538672  0.555605  0.566818  0.522659  0.570601  \n",
       "...        ...       ...       ...       ...       ...       ...       ...  \n",
       "4272  0.570644  0.557133  0.576950  0.563570  0.567219  0.559196  0.555340  \n",
       "4273  0.313218  0.311667  0.348509  0.372706  0.358807  0.342450  0.334307  \n",
       "4274  0.947809  0.946062  0.942756  0.956614  0.955638  0.952143  0.948141  \n",
       "4275  0.763374  0.747373  0.740391  0.755998  0.764890  0.761909  0.757847  \n",
       "4276  0.592723  0.589737  0.584475  0.590924  0.586225  0.600869  0.600745  \n",
       "\n",
       "[4277 rows x 30 columns]"
      ]
     },
     "execution_count": 20,
     "metadata": {},
     "output_type": "execute_result"
    }
   ],
   "source": [
    "predictions"
   ]
  },
  {
   "cell_type": "code",
   "execution_count": 23,
   "metadata": {
    "execution": {
     "iopub.execute_input": "2022-11-28T00:27:53.613067Z",
     "iopub.status.busy": "2022-11-28T00:27:53.612720Z",
     "iopub.status.idle": "2022-11-28T00:27:53.638618Z",
     "shell.execute_reply": "2022-11-28T00:27:53.637033Z",
     "shell.execute_reply.started": "2022-11-28T00:27:53.613036Z"
    }
   },
   "outputs": [],
   "source": [
    "sample = pd.read_csv(f'{PATH}/sample_submission.csv')\n",
    "sample.to_csv(\"weighted_ensemble.csv\", index = False)"
   ]
  }
 ],
 "metadata": {
  "kernelspec": {
   "display_name": "Python 3 (ipykernel)",
   "language": "python",
   "name": "python3"
  },
  "language_info": {
   "codemirror_mode": {
    "name": "ipython",
    "version": 3
   },
   "file_extension": ".py",
   "mimetype": "text/x-python",
   "name": "python",
   "nbconvert_exporter": "python",
   "pygments_lexer": "ipython3",
   "version": "3.9.12"
  }
 },
 "nbformat": 4,
 "nbformat_minor": 4
}
